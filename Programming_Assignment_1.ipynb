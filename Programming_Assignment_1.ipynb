{
  "nbformat": 4,
  "nbformat_minor": 0,
  "metadata": {
    "colab": {
      "name": " Programming Assignment_1.ipynb",
      "provenance": [],
      "collapsed_sections": []
    },
    "kernelspec": {
      "name": "python3",
      "display_name": "Python 3"
    },
    "language_info": {
      "name": "python"
    }
  },
  "cells": [
    {
      "cell_type": "code",
      "execution_count": null,
      "metadata": {
        "id": "ThW8ZFOhee1V"
      },
      "outputs": [],
      "source": [
        "#1. Write a Python program to print \"Hello Python&quot\"?"
      ]
    },
    {
      "cell_type": "code",
      "source": [
        "#Ans...\n",
        "print(\"Hello Python \")"
      ],
      "metadata": {
        "colab": {
          "base_uri": "https://localhost:8080/"
        },
        "id": "ZQNMAgSvejwM",
        "outputId": "1e71a3e6-17d2-44ff-adf2-6d45defe3ace"
      },
      "execution_count": null,
      "outputs": [
        {
          "output_type": "stream",
          "name": "stdout",
          "text": [
            "Hello Python \n"
          ]
        }
      ]
    },
    {
      "cell_type": "code",
      "source": [
        "#2. Write a Python program to do arithmetical operations addition and division.?"
      ],
      "metadata": {
        "id": "-3o1Xr7pev83"
      },
      "execution_count": null,
      "outputs": []
    },
    {
      "cell_type": "code",
      "source": [
        "a=40\n",
        "b=20\n",
        "print(\"enter your addition\",a+b)\n",
        "print(\"enter your Division\",a-b)"
      ],
      "metadata": {
        "colab": {
          "base_uri": "https://localhost:8080/"
        },
        "id": "S6IMyP-Le-WT",
        "outputId": "936ce61e-d7db-425d-fe87-281516e20ef5"
      },
      "execution_count": null,
      "outputs": [
        {
          "output_type": "stream",
          "name": "stdout",
          "text": [
            "enter your addition 60\n",
            "enter your Division 20\n"
          ]
        }
      ]
    },
    {
      "cell_type": "code",
      "source": [
        "#3. Write a Python program to find the area of a triangle?"
      ],
      "metadata": {
        "id": "NCBjTGlwfFa-"
      },
      "execution_count": null,
      "outputs": []
    },
    {
      "cell_type": "code",
      "source": [
        "height = int(input('Enter height of triangle: '))\n",
        "base = int(input('Enter base of triangle: '))\n",
        "\n",
        "def areaOfTriangle(height, base):\n",
        "    print('\\nArea of triangle ->', 0.5*height*base)\n",
        "\n",
        "areaOfTriangle(height,base)"
      ],
      "metadata": {
        "colab": {
          "base_uri": "https://localhost:8080/"
        },
        "id": "iluwBHsZfmG2",
        "outputId": "a59b134e-2c1d-4c90-a719-36651e500087"
      },
      "execution_count": null,
      "outputs": [
        {
          "output_type": "stream",
          "name": "stdout",
          "text": [
            "Enter height of triangle: 10\n",
            "Enter base of triangle: 20\n",
            "\n",
            "Area of triangle -> 100.0\n"
          ]
        }
      ]
    },
    {
      "cell_type": "code",
      "source": [
        "#4. Write a Python program to swap two variables?"
      ],
      "metadata": {
        "id": "Qw7oFzFaf8Sl"
      },
      "execution_count": null,
      "outputs": []
    },
    {
      "cell_type": "code",
      "source": [
        "x=int(input('Enter First Value'))\n",
        "y=int(input('Enter Second Value'))\n",
        "temp=x\n",
        "x=y\n",
        "y=temp\n",
        "print('The value of x after swapping: {}'.format(x))\n",
        "print('The value of y after swapping: {}'.format(y))"
      ],
      "metadata": {
        "colab": {
          "base_uri": "https://localhost:8080/"
        },
        "id": "wJuXsl3QgiiQ",
        "outputId": "08546da8-c862-4c53-e02e-c6df1376b86f"
      },
      "execution_count": null,
      "outputs": [
        {
          "output_type": "stream",
          "name": "stdout",
          "text": [
            "Enter First Value10\n",
            "Enter Second Value20\n",
            "The value of x after swapping: 20\n",
            "The value of y after swapping: 10\n"
          ]
        }
      ]
    },
    {
      "cell_type": "code",
      "source": [
        "#5. Write a Python program to generate a random number?"
      ],
      "metadata": {
        "id": "RLM941BThAhA"
      },
      "execution_count": null,
      "outputs": []
    },
    {
      "cell_type": "code",
      "source": [
        "import random\n",
        "n = random.random()\n",
        "print(n)"
      ],
      "metadata": {
        "colab": {
          "base_uri": "https://localhost:8080/"
        },
        "id": "314AXbXZhTXx",
        "outputId": "de7d1b2b-c3c1-4d9d-9633-9dad6c4e8226"
      },
      "execution_count": null,
      "outputs": [
        {
          "output_type": "stream",
          "name": "stdout",
          "text": [
            "0.8622159152637778\n"
          ]
        }
      ]
    },
    {
      "cell_type": "code",
      "source": [
        ""
      ],
      "metadata": {
        "id": "l0B32o98hUBx"
      },
      "execution_count": null,
      "outputs": []
    }
  ]
}