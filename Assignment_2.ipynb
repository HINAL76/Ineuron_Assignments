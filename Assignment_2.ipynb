{
  "nbformat": 4,
  "nbformat_minor": 0,
  "metadata": {
    "colab": {
      "name": "Assignment_2.ipynb",
      "provenance": []
    },
    "kernelspec": {
      "name": "python3",
      "display_name": "Python 3"
    },
    "language_info": {
      "name": "python"
    }
  },
  "cells": [
    {
      "cell_type": "code",
      "execution_count": null,
      "metadata": {
        "id": "wPSY1v0k3Xr6"
      },
      "outputs": [],
      "source": [
        "#1.What are the two values of the Boolean data type? How do you write them?\n"
      ]
    },
    {
      "cell_type": "markdown",
      "source": [
        "Ans:-there are True And False two value in boolen data types"
      ],
      "metadata": {
        "id": "9UBPKEaI3hPU"
      }
    },
    {
      "cell_type": "code",
      "source": [
        "#ex:-\n",
        "a=True\n",
        "b=False\n",
        "print(a,type(a))\n",
        "print(b,type(b))"
      ],
      "metadata": {
        "colab": {
          "base_uri": "https://localhost:8080/"
        },
        "id": "5UhqPhFe3t_I",
        "outputId": "4a1d4e82-7b09-47d3-ed44-39a38773b28f"
      },
      "execution_count": null,
      "outputs": [
        {
          "output_type": "stream",
          "name": "stdout",
          "text": [
            "True <class 'bool'>\n",
            "False <class 'bool'>\n"
          ]
        }
      ]
    },
    {
      "cell_type": "code",
      "source": [
        "#2. What are the three different types of Boolean operators?"
      ],
      "metadata": {
        "id": "N9nR_brQ34C7"
      },
      "execution_count": null,
      "outputs": []
    },
    {
      "cell_type": "markdown",
      "source": [
        "Ans... there are 3 boolean operators: not are and"
      ],
      "metadata": {
        "id": "W99fimDe4BBF"
      }
    },
    {
      "cell_type": "code",
      "source": [
        "#ex:-\n",
        "a=10\n",
        "b=20\n",
        "print(a>5 and b>7)\n",
        "print(a>2 or b>1)\n",
        "print(not(a>10))"
      ],
      "metadata": {
        "colab": {
          "base_uri": "https://localhost:8080/"
        },
        "id": "t0x3CJoP4IYj",
        "outputId": "f83cd698-262b-4b96-d1a0-864296d63b80"
      },
      "execution_count": null,
      "outputs": [
        {
          "output_type": "stream",
          "name": "stdout",
          "text": [
            "True\n",
            "True\n",
            "True\n"
          ]
        }
      ]
    },
    {
      "cell_type": "code",
      "source": [
        "#3. Make a list of each Boolean operator's truth tables (i.e. every possible combination of Boolean values for the operator and what it evaluate )."
      ],
      "metadata": {
        "id": "tsYyZwk_4W0J"
      },
      "execution_count": null,
      "outputs": []
    },
    {
      "cell_type": "markdown",
      "source": [
        "Ans....The Truth Table And operator\n",
        "\n",
        "True True True        \n",
        "True False False                                                  \n",
        "False True False                   \n",
        "False False False               \n",
        "\n",
        "\n",
        "\n",
        "\n",
        "\n",
        "\n",
        "The Truth Table OR operator                                                     \n",
        "\n",
        "True True True                                                                                                                                                                                                                                    \n",
        "True False True                                                                    \n",
        "False True True                                                                           \n",
        "False False False                                                                                                                                              \n",
        "\n",
        "The Truth Table Not operator                                                            \n",
        "\n",
        "True not is false                                                                    \n",
        "false not is True                                                                 \n",
        "\n"
      ],
      "metadata": {
        "id": "JcyeC0hy4iWH"
      }
    },
    {
      "cell_type": "code",
      "source": [
        "#4. What are the values of the following expressions?\n",
        "#(5 > 4) and (3 == 5)\n",
        "#not (5 > 4)\n",
        "#(5 > 4) or (3 == 5)\n",
        "#not ((5 > 4) or (3 == 5))\n",
        "#(True and True) and (True == False)\n",
        "#(not False) or (not True)"
      ],
      "metadata": {
        "id": "CnNljyRO5WLL"
      },
      "execution_count": null,
      "outputs": []
    },
    {
      "cell_type": "code",
      "source": [
        "#Ans....\n",
        "print((5>4)and (3==5))#false\n",
        "print(not(5>4))#False\n",
        "print((5>4)or(3==5))#True\n",
        "print((True and True)and(True==False))#False\n",
        "print((not False)or(not True))#True"
      ],
      "metadata": {
        "colab": {
          "base_uri": "https://localhost:8080/"
        },
        "id": "zB6FhA0T51xZ",
        "outputId": "f6127f18-05fa-4a22-ca5a-d55f57f92daf"
      },
      "execution_count": null,
      "outputs": [
        {
          "output_type": "stream",
          "name": "stdout",
          "text": [
            "False\n",
            "False\n",
            "True\n",
            "False\n",
            "True\n"
          ]
        }
      ]
    },
    {
      "cell_type": "code",
      "source": [
        "#5. What are the six comparison operators?\n"
      ],
      "metadata": {
        "id": "Zco-bNp359b0"
      },
      "execution_count": null,
      "outputs": []
    },
    {
      "cell_type": "markdown",
      "source": [
        "Ans........ ( ==,!=,<,>,<=,=> )"
      ],
      "metadata": {
        "id": "KbYDAiKN6kNA"
      }
    },
    {
      "cell_type": "code",
      "source": [
        "#6. How do you tell the difference between the equal to and assignment operators?Describe a condition and when you would use one."
      ],
      "metadata": {
        "id": "TM8b65_G6ppn"
      },
      "execution_count": null,
      "outputs": []
    },
    {
      "cell_type": "markdown",
      "source": [
        "Ans....                                                                                                                                                         == is the equal operator  that compare two value..                                    \n",
        "= is the assignment operator that is store the value"
      ],
      "metadata": {
        "id": "L3giUhpx61ji"
      }
    },
    {
      "cell_type": "code",
      "source": [
        "#7. Identify the three blocks in this code:\n",
        "#spam = 0\n",
        "#if spam == 10:\n",
        "#print(&#39;eggs&#39;)\n",
        "#if spam &gt; 5:\n",
        "#print(&#39;bacon&#39;)\n",
        "#else:\n",
        "#print(&#39;ham&#39;)\n",
        "#print(&#39;spam&#39;)\n",
        "#print(&#39;spam&#39;)"
      ],
      "metadata": {
        "id": "iNth2i5I7KG9"
      },
      "execution_count": null,
      "outputs": []
    },
    {
      "cell_type": "code",
      "source": [
        "#Ans\n",
        "spam = 0\n",
        "if spam == 10:\n",
        "  print('eggs')\n",
        "if spam > 5:\n",
        "  print('bacon')\n",
        "else:\n",
        "  print('ham')\n",
        "print('spam')\n",
        "print('spam')\n",
        "\n"
      ],
      "metadata": {
        "colab": {
          "base_uri": "https://localhost:8080/"
        },
        "id": "t2QLw3cL7YmN",
        "outputId": "c2cd0703-7c79-44ff-a2b7-e82de4988c97"
      },
      "execution_count": null,
      "outputs": [
        {
          "output_type": "stream",
          "name": "stdout",
          "text": [
            "ham\n",
            "spam\n",
            "spam\n"
          ]
        }
      ]
    },
    {
      "cell_type": "code",
      "source": [
        "#8. Write code that prints Hello if 1 is stored in spam, prints Howdy if 2 is stored in spam, and prints Greetings! if anything else is stored in spam."
      ],
      "metadata": {
        "id": "g9A1gOhU76LG"
      },
      "execution_count": null,
      "outputs": []
    },
    {
      "cell_type": "code",
      "source": [
        "#Ans..\n",
        "def spamCode(spam):\n",
        "  if spam==1:\n",
        "    print('hello')\n",
        "  elif spam==2:\n",
        "    print('how are you')\n",
        "  else:\n",
        "    print('gretting')"
      ],
      "metadata": {
        "id": "Ua8PIg--8Ve2"
      },
      "execution_count": null,
      "outputs": []
    },
    {
      "cell_type": "code",
      "source": [
        ""
      ],
      "metadata": {
        "id": "NNgdqrac9XaY"
      },
      "execution_count": null,
      "outputs": []
    },
    {
      "cell_type": "code",
      "source": [
        "spamCode(1)\n",
        "spamCode(2)\n",
        "spamCode(3)"
      ],
      "metadata": {
        "colab": {
          "base_uri": "https://localhost:8080/"
        },
        "id": "d_49oChw8soS",
        "outputId": "031329d2-c0e5-4b70-a611-0e629c69242d"
      },
      "execution_count": null,
      "outputs": [
        {
          "output_type": "stream",
          "name": "stdout",
          "text": [
            "hello\n",
            "how are you\n",
            "gretting\n"
          ]
        }
      ]
    },
    {
      "cell_type": "code",
      "source": [
        "#9.If your programme is stuck in an endless loop, what keys you’ll press?"
      ],
      "metadata": {
        "id": "i9E3a9Fr8z2J"
      },
      "execution_count": null,
      "outputs": []
    },
    {
      "cell_type": "markdown",
      "source": [
        "Ans.... i will press ctrl-c to stop the program.."
      ],
      "metadata": {
        "id": "BwawK_dd9eSL"
      }
    },
    {
      "cell_type": "code",
      "source": [
        "#10. How can you tell the difference between break and continue?"
      ],
      "metadata": {
        "id": "ipMyi9Ss9mlC"
      },
      "execution_count": null,
      "outputs": []
    },
    {
      "cell_type": "markdown",
      "source": [
        "Ans.. Break:= it will move the excution outside the loop if break condition     \n",
        "continue:= this is the start of the loop"
      ],
      "metadata": {
        "id": "V-9Z1Gdc9xtS"
      }
    },
    {
      "cell_type": "code",
      "source": [
        "#11. In a for loop, what is the difference between range(10), range(0, 10), and range(0, 10, 1)?"
      ],
      "metadata": {
        "id": "DHQ8hy5V-DiJ"
      },
      "execution_count": null,
      "outputs": []
    },
    {
      "cell_type": "markdown",
      "source": [
        "Ans...The range(10)...call the range 0 to 9    \n",
        "The range(0,10)...loops to start the 0      \n",
        "The range(0,10,1)...one on each iteraction"
      ],
      "metadata": {
        "id": "hIzhAWlc-MVd"
      }
    },
    {
      "cell_type": "code",
      "source": [
        "#12. Write a short program that prints the numbers 1 to 10 using a for loop. Then write an equivalent program that prints the numbers 1 to 10 using a while loop."
      ],
      "metadata": {
        "id": "VcgnlUHW-kyP"
      },
      "execution_count": null,
      "outputs": []
    },
    {
      "cell_type": "code",
      "source": [
        "#Ans..\n",
        "print('-'*10,'Using For Loop','-'*10)\n",
        "for i in range(1,11):\n",
        "    print(i, end=\" \")\n",
        "print('\\n')\n",
        "print('-'*10,'Using While Loop','-'*10) \n",
        "i=1\n",
        "while i<=10:\n",
        "    print(i, end=\" \")\n",
        "    i+=1"
      ],
      "metadata": {
        "colab": {
          "base_uri": "https://localhost:8080/"
        },
        "id": "lGvhWK7f-tYk",
        "outputId": "0ea1577e-945f-4f8c-c542-bbb7be03cf28"
      },
      "execution_count": null,
      "outputs": [
        {
          "output_type": "stream",
          "name": "stdout",
          "text": [
            "---------- Using For Loop ----------\n",
            "1 2 3 4 5 6 7 8 9 10 \n",
            "\n",
            "---------- Using While Loop ----------\n",
            "1 2 3 4 5 6 7 8 9 10 "
          ]
        }
      ]
    },
    {
      "cell_type": "code",
      "source": [
        "#13. If you had a function named bacon() inside a module named spam, how would you call it after importing spam ?"
      ],
      "metadata": {
        "id": "4GXWE8eN_Anj"
      },
      "execution_count": null,
      "outputs": []
    },
    {
      "cell_type": "markdown",
      "source": [
        "Ans..This function can be called with spam.bacon()"
      ],
      "metadata": {
        "id": "jRn03_fF_HFQ"
      }
    },
    {
      "cell_type": "code",
      "source": [
        ""
      ],
      "metadata": {
        "id": "-4i1NZS1_Kdd"
      },
      "execution_count": null,
      "outputs": []
    }
  ]
}