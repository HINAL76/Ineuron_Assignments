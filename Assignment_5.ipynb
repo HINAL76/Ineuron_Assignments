{
  "nbformat": 4,
  "nbformat_minor": 0,
  "metadata": {
    "colab": {
      "name": " Assignment_5.ipynb",
      "provenance": [],
      "collapsed_sections": []
    },
    "kernelspec": {
      "name": "python3",
      "display_name": "Python 3"
    },
    "language_info": {
      "name": "python"
    }
  },
  "cells": [
    {
      "cell_type": "code",
      "execution_count": null,
      "metadata": {
        "id": "Why9hbxiJJAl"
      },
      "outputs": [],
      "source": [
        "#1. What does an empty dictionary's code look like?"
      ]
    },
    {
      "cell_type": "code",
      "source": [
        ""
      ],
      "metadata": {
        "id": "DXHMZsNEZRJq"
      },
      "execution_count": null,
      "outputs": []
    },
    {
      "cell_type": "markdown",
      "source": [
        "Ans:= An empty dictionary is often reprented by two empty curly brackets...                                                                                                                                                                                                                                                    \n",
        "d={} or d=dict()"
      ],
      "metadata": {
        "id": "-MsMutsKJdhP"
      }
    },
    {
      "cell_type": "code",
      "source": [
        "#2. What is the value of a dictionary value with the key 'foo'; and the value 42?"
      ],
      "metadata": {
        "id": "ae2JSsfIJ9Kf"
      },
      "execution_count": null,
      "outputs": []
    },
    {
      "cell_type": "markdown",
      "source": [
        "Ans:= {\"foo\":42}"
      ],
      "metadata": {
        "id": "hR1M00-dKDPQ"
      }
    },
    {
      "cell_type": "code",
      "source": [
        "#3. What is the most significant distinction between a dictionary and a list?"
      ],
      "metadata": {
        "id": "mpqYXULUKRdG"
      },
      "execution_count": null,
      "outputs": []
    },
    {
      "cell_type": "markdown",
      "source": [
        "Ans:= dictionary are represented by{}..and listed are represented by[]"
      ],
      "metadata": {
        "id": "tYWHa5B_KVjt"
      }
    },
    {
      "cell_type": "code",
      "source": [
        "#4. What happens if you try to access spam 'foo' if spam is 'bar': 100}?"
      ],
      "metadata": {
        "id": "AikEVcMFZTsn"
      },
      "execution_count": null,
      "outputs": []
    },
    {
      "cell_type": "markdown",
      "source": [
        "Ans:= key error:'foo'"
      ],
      "metadata": {
        "id": "G2pVMpyjZYiQ"
      }
    },
    {
      "cell_type": "code",
      "source": [
        "#5. If a dictionary is stored in spam, what is the difference between the expressions 'cat' in spam and 'cat' in spam.keys()?"
      ],
      "metadata": {
        "id": "jzYhJgBjZeBZ"
      },
      "execution_count": null,
      "outputs": []
    },
    {
      "cell_type": "markdown",
      "source": [
        "Ans:=there is no diferences..the operator checks whether a value exits as key in the dict or not"
      ],
      "metadata": {
        "id": "ogFjVWmOZwFi"
      }
    },
    {
      "cell_type": "code",
      "source": [
        "#6. If a dictionary is stored in spam, what is the difference between the expressions 'cat'; in spam and 'cat'; in spam.values()?"
      ],
      "metadata": {
        "id": "mhwmQtqWakbW"
      },
      "execution_count": null,
      "outputs": []
    },
    {
      "cell_type": "markdown",
      "source": [
        "Ans:='cat'in spam checks whether there is 'cat' key in the dictionary,while 'cat' in spam.values().."
      ],
      "metadata": {
        "id": "6OIASBbgao4d"
      }
    },
    {
      "cell_type": "code",
      "source": [
        "#7.what is a shortcut for the following code?"
      ],
      "metadata": {
        "id": "yB8MtRSy-thi"
      },
      "execution_count": null,
      "outputs": []
    },
    {
      "cell_type": "markdown",
      "source": [
        "Ans:= if 'color' not in spam:\n",
        "          spam['color']='black'                                                                                                                    spam.setdefault('color','black')"
      ],
      "metadata": {
        "id": "WitX20ST-0-p"
      }
    },
    {
      "cell_type": "code",
      "source": [
        "#8.How do you 'pretty print' dictionary values using which modules and function ?"
      ],
      "metadata": {
        "id": "bHVmNJ1MAZjp"
      },
      "execution_count": null,
      "outputs": []
    },
    {
      "cell_type": "markdown",
      "source": [
        "Ans:= we can pretty print a dictinary using three functions                                                                                                                                     \n",
        "\n",
        "\n",
        "\n",
        "\n",
        "1.by using pprint() function of pprint module\n",
        "Note: pprint() function doesnot prettify nested dictionaries\n",
        "\n",
        "2.by using dumps() method of json module\n",
        "\n",
        "3.by using dumps() method of yaml module"
      ],
      "metadata": {
        "id": "ZJEuMqiuAfSE"
      }
    }
  ]
}