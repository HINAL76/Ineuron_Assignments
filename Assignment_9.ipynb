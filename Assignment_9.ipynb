{
  "nbformat": 4,
  "nbformat_minor": 0,
  "metadata": {
    "colab": {
      "provenance": []
    },
    "kernelspec": {
      "name": "python3",
      "display_name": "Python 3"
    },
    "language_info": {
      "name": "python"
    }
  },
  "cells": [
    {
      "cell_type": "code",
      "execution_count": null,
      "metadata": {
        "id": "fUATyeMnypdQ"
      },
      "outputs": [],
      "source": [
        "1.To what does a relative path refer ?"
      ]
    },
    {
      "cell_type": "markdown",
      "source": [
        "Ans:= The relative path is the path to some file respect to your current working directory\n",
        "For example: if Absolute path to a file called stuff.txt is: C:/users/admin/docs/stuff.txt If my PWD is C:/users/admin/ , then the relative path to stuff.txt would be: docs/stuff.txt"
      ],
      "metadata": {
        "id": "reW8jzK8yvco"
      }
    },
    {
      "cell_type": "code",
      "source": [
        "2.Where does an absolute path start with your Operating System ?"
      ],
      "metadata": {
        "id": "kaZ-6J8vzIOo"
      },
      "execution_count": null,
      "outputs": []
    },
    {
      "cell_type": "markdown",
      "source": [
        "Ans:= in Linux based system the absolute path satrts with /. where as in windows based system absolute path starts wit c:"
      ],
      "metadata": {
        "id": "i3ec-XmEzMMT"
      }
    },
    {
      "cell_type": "code",
      "source": [
        "3.What does the functions os.getcwd() and os.chdir() do ?"
      ],
      "metadata": {
        "id": "XJqHO2htz-rW"
      },
      "execution_count": null,
      "outputs": []
    },
    {
      "cell_type": "markdown",
      "source": [
        "Ans:= os.getcwd() method tells us the location of current working directory(cwd).whereas os.chdir() method in python used to change the current working directory to specified path."
      ],
      "metadata": {
        "id": "KkQRZkuj0Is4"
      }
    },
    {
      "cell_type": "code",
      "source": [
        "4.What are . and .. folders ?"
      ],
      "metadata": {
        "id": "NOt4adVD0hwZ"
      },
      "execution_count": null,
      "outputs": []
    },
    {
      "cell_type": "markdown",
      "source": [
        "Ans:=  . Represents the Current Directory whereas .. Represent the Parent Directory"
      ],
      "metadata": {
        "id": "9jkSBRjV0nqq"
      }
    },
    {
      "cell_type": "code",
      "source": [
        "5. In C:\\bacon\\eggs\\spam.txt which part is the dir name and which part is the base name ?"
      ],
      "metadata": {
        "id": "ijOfh_6O06am"
      },
      "execution_count": null,
      "outputs": []
    },
    {
      "cell_type": "markdown",
      "source": [
        "Ans:= For C:\\bacon\\eggs\\spam.txt\n",
        "The dir name is C:\\\\bacon\\\\eggs\n",
        "The Base name is spam.txt"
      ],
      "metadata": {
        "id": "_VC-ivx209rr"
      }
    },
    {
      "cell_type": "code",
      "source": [
        "6. What are the three mode arguments that can be passed to the open() function ?"
      ],
      "metadata": {
        "id": "VclGL0sV1A0T"
      },
      "execution_count": null,
      "outputs": []
    },
    {
      "cell_type": "markdown",
      "source": [
        "Ans:= A file can be Accessed in python using open() function. open function takes two arguments filename and mode of operation (optional). if mode is not provided the default mode of opening is read mode\n",
        "So, the syntax being: open(filename, mode)\n",
        "\n",
        "‘r’ – Read Mode: This is the default mode for open(). The file is opened and a pointer is positioned at the beginning of the file’s content.\n",
        "‘w’ – Write Mode: Using this mode will overwrite any existing content in a file. If the given file does not exist, a new one will be created.\n",
        "‘r+’ – Read/Write Mode: Use this mode if you need to simultaneously read and write to a file.\n",
        "‘a’ – Append Mode: With this mode the user can append the data without overwriting any already existing data in the file.\n",
        "‘a+’ – Append and Read Mode: In this mode you can read and append the data without overwriting the original file.\n",
        "‘x’ – Exclusive Creating Mode: This mode is for the sole purpose of creating new files. Use this mode if you know the file to be written doesn’t exist beforehand."
      ],
      "metadata": {
        "id": "22xVxRoW1IhK"
      }
    },
    {
      "cell_type": "code",
      "source": [
        "7.What happens if an existing file is opened in write mode ?"
      ],
      "metadata": {
        "id": "JH54kJ5e1PaN"
      },
      "execution_count": null,
      "outputs": []
    },
    {
      "cell_type": "markdown",
      "source": [
        " Using this mode will overwrite any existing content in a file. If the given file does not exist, a new one will be created."
      ],
      "metadata": {
        "id": "CsJcQ9S71TPq"
      }
    },
    {
      "cell_type": "code",
      "source": [
        "8.How do you tell the difference between read() and readlines() ?"
      ],
      "metadata": {
        "id": "ywwKg5Kx1WPI"
      },
      "execution_count": null,
      "outputs": []
    },
    {
      "cell_type": "markdown",
      "source": [
        " Ans:= The main difference is that read() will read the whole file at once and then print out the first characters that take up as many bytes as you specify in the parenthesis.\n",
        " : Whereas the readline() that will read and print out only the first characters that take up as many bytes as you specify in the parenthesis. You may want to use readline() when you're reading files that are too big for your RAM.\n",
        " The read() would treat each character in the file separately, meaning that the iteration would happen for every character."
      ],
      "metadata": {
        "id": "jR6C5xJE1YsK"
      }
    },
    {
      "cell_type": "code",
      "source": [
        "9.What data structure does a shelf value resemble ?"
      ],
      "metadata": {
        "id": "9yf9YHkj1if0"
      },
      "execution_count": null,
      "outputs": []
    },
    {
      "cell_type": "markdown",
      "source": [
        "Ans:= it contains key and values it represents dictionary."
      ],
      "metadata": {
        "id": "aKQnrQeg1mtN"
      }
    },
    {
      "cell_type": "code",
      "source": [],
      "metadata": {
        "id": "B4Vi0y0a1raV"
      },
      "execution_count": null,
      "outputs": []
    }
  ]
}