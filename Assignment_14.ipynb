{
  "nbformat": 4,
  "nbformat_minor": 0,
  "metadata": {
    "colab": {
      "provenance": []
    },
    "kernelspec": {
      "name": "python3",
      "display_name": "Python 3"
    },
    "language_info": {
      "name": "python"
    }
  },
  "cells": [
    {
      "cell_type": "markdown",
      "source": [
        "1. What does RGBA stand for?\n"
      ],
      "metadata": {
        "id": "_RXjwat6QlV4"
      }
    },
    {
      "cell_type": "markdown",
      "source": [
        "Ans:=\n",
        "RGBA is a four-channel format containing data for Red, Green, Blue, and an Alpha value. Where Alpha Represents the Opacity\n"
      ],
      "metadata": {
        "id": "Ci66m347TDq9"
      }
    },
    {
      "cell_type": "markdown",
      "source": [
        "2. From the Pillow module, how do you get the RGBA value of any images?"
      ],
      "metadata": {
        "id": "u8TonY_AOlyJ"
      }
    },
    {
      "cell_type": "markdown",
      "source": [
        "Ans:= \n",
        "ImageColor.getcolor() gives rgba value of any image"
      ],
      "metadata": {
        "id": "ai79PUUWU5Tb"
      }
    },
    {
      "cell_type": "markdown",
      "source": [
        "3. What is a box tuple, and how does it work?"
      ],
      "metadata": {
        "id": "1Oc44IsGVDrG"
      }
    },
    {
      "cell_type": "markdown",
      "source": [
        "Ans:= A box tuple is a tuple value of four integers: the left-edge x-coordinate, the top-edge y-coordinate,the width, and the height, respectively."
      ],
      "metadata": {
        "id": "e18GIFjYVEXt"
      }
    },
    {
      "cell_type": "markdown",
      "source": [
        "4. Use your image and load in notebook then, How can you find out the width and height of an Image object?"
      ],
      "metadata": {
        "id": "fJhNf2nPVLX8"
      }
    },
    {
      "cell_type": "code",
      "source": [
        "#Ans:= \n",
        "#Example Program\n",
        "from PIL import Image\n",
        "pic = Image.open('Pic.jpg')\n",
        "print(f'Width, Height -> {pic.size}') # Approach 1\n",
        "print(f'Width, Height -> {pic.width},{pic.height}') # Approach 2\n",
        "width,height = pic.size\n",
        "print(f'Width, Height -> {width},{height}') # Approach 3\n"
      ],
      "metadata": {
        "id": "8bs3dLyfOgq3"
      },
      "execution_count": 16,
      "outputs": []
    },
    {
      "cell_type": "markdown",
      "source": [
        "5. What method would you call to get Image object for a 100×100 image, excluding the lower-left quarter of it?"
      ],
      "metadata": {
        "id": "qWJggXWkVU7u"
      }
    },
    {
      "cell_type": "code",
      "source": [
        "#Ans:=\n",
        "from PIL import Image\n",
        "img = Image.open('Pic.jpg')\n",
        "new_img = img.crop((0,50,50,50))\n"
      ],
      "metadata": {
        "id": "MgZtGy1XO0HL"
      },
      "execution_count": 14,
      "outputs": []
    },
    {
      "cell_type": "markdown",
      "source": [
        "6. After making changes to an Image object, how could you save it as an image file?"
      ],
      "metadata": {
        "id": "_1lC4YCtVhbo"
      }
    },
    {
      "cell_type": "code",
      "source": [
        "#Ans:= #Example Program\n",
        "from PIL import Image\n",
        "pic = Image.open('pic.jpg')\n",
        "pic.save('pic2.jpg')"
      ],
      "metadata": {
        "id": "EhdVJywhO6-O"
      },
      "execution_count": 10,
      "outputs": []
    },
    {
      "cell_type": "markdown",
      "source": [
        "7. What module contains Pillow’s shape-drawing code?"
      ],
      "metadata": {
        "id": "rNov2w50PC4J"
      }
    },
    {
      "cell_type": "markdown",
      "source": [
        "Ans: Pillows ImageDraw module contains Shape drawing methods"
      ],
      "metadata": {
        "id": "l1ak-6kkVuQd"
      }
    },
    {
      "cell_type": "markdown",
      "source": [
        "8. Image objects do not have drawing methods. What kind of object does? How do you get this kind of object?"
      ],
      "metadata": {
        "id": "TP6wGF78VyHh"
      }
    },
    {
      "cell_type": "markdown",
      "source": [
        "Ans:= \n",
        "ImageDraw objects have shape-drawing methods such as point(), line(), or rectangle().They are returned by passing the Image object to the ImageDraw.Draw() function."
      ],
      "metadata": {
        "id": "IE2K-dEWVzx8"
      }
    }
  ]
}