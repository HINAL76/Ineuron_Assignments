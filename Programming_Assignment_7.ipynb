{
  "nbformat": 4,
  "nbformat_minor": 0,
  "metadata": {
    "colab": {
      "name": "Programming_Assignment_7.ipynb",
      "provenance": []
    },
    "kernelspec": {
      "name": "python3",
      "display_name": "Python 3"
    },
    "language_info": {
      "name": "python"
    }
  },
  "cells": [
    {
      "cell_type": "markdown",
      "source": [
        "#1. Write a Python Program to find sum of array?"
      ],
      "metadata": {
        "id": "tjuqzJmMAcP1"
      }
    },
    {
      "cell_type": "code",
      "source": [
        "def sumofarray():\n",
        "  in_arr = eval(input(\"enter the array:\"))\n",
        "  print(f'the sum of{in_arr}is{sum(in_arr)} ')\n",
        "sumofarray()"
      ],
      "metadata": {
        "colab": {
          "base_uri": "https://localhost:8080/"
        },
        "id": "kNx57XChAdXf",
        "outputId": "0630219a-ecb9-4059-d15d-f20e78e51606"
      },
      "execution_count": 3,
      "outputs": [
        {
          "output_type": "stream",
          "name": "stdout",
          "text": [
            "enter the array:[1,2,3,4,5]\n",
            "the sum of[1, 2, 3, 4, 5]is15 \n"
          ]
        }
      ]
    },
    {
      "cell_type": "markdown",
      "source": [
        "#2. Write a Python Program to find Largest element in an Array ?"
      ],
      "metadata": {
        "id": "IZN7PXjoAiYL"
      }
    },
    {
      "cell_type": "code",
      "source": [
        "def largestelement():\n",
        "  in_arr=eval(input(\"enter the array: \"))\n",
        "  print(f\"the largest element in{in_arr}is{sorted(in_arr,reverse=True)[0]}\")\n",
        "largestelement()"
      ],
      "metadata": {
        "colab": {
          "base_uri": "https://localhost:8080/"
        },
        "id": "RtlRXcodAjd_",
        "outputId": "21a09212-69ab-4325-9cb0-30b39e0fc638"
      },
      "execution_count": 2,
      "outputs": [
        {
          "output_type": "stream",
          "name": "stdout",
          "text": [
            "enter the array: [1,2,3,4,5]\n",
            "the largest element in[1, 2, 3, 4, 5]is5\n"
          ]
        }
      ]
    },
    {
      "cell_type": "markdown",
      "source": [
        "#3. Write a Python Program for array rotation ?"
      ],
      "metadata": {
        "id": "ig5DYNciApC3"
      }
    },
    {
      "cell_type": "code",
      "source": [
        "def reverseofarray():\n",
        "  in_arr=eval(input(\"enter the array:\"))\n",
        "  print(f\"the reverse of array {in_arr} is {in_arr[::-1]}\")\n",
        "reverseofarray()"
      ],
      "metadata": {
        "colab": {
          "base_uri": "https://localhost:8080/"
        },
        "id": "qgtIq9XIAsh3",
        "outputId": "7ebc1395-7165-40a4-85f9-5cd029f1e756"
      },
      "execution_count": 4,
      "outputs": [
        {
          "output_type": "stream",
          "name": "stdout",
          "text": [
            "enter the array:[1,2,3,4,5]\n",
            "the reverse of array [1, 2, 3, 4, 5] is [5, 4, 3, 2, 1]\n"
          ]
        }
      ]
    },
    {
      "cell_type": "markdown",
      "source": [
        "4. Write a Python Program to Split the array and add the first part to the end ?"
      ],
      "metadata": {
        "id": "PAPT8OR8BDZP"
      }
    },
    {
      "cell_type": "code",
      "source": [
        "def sumofsplit():\n",
        "  in_arr=eval(input(\"enter your array:\"))\n",
        "  print(f\"the sum of first and last element of array {in_arr} is {in_arr[0]+in_arr[-1]}\")\n",
        "sumofsplit()"
      ],
      "metadata": {
        "colab": {
          "base_uri": "https://localhost:8080/"
        },
        "id": "KPlW-HxtBIFX",
        "outputId": "79f0c215-f5ac-403a-acc6-b27a322dfd7b"
      },
      "execution_count": 5,
      "outputs": [
        {
          "output_type": "stream",
          "name": "stdout",
          "text": [
            "enter your array:[1,2,3,4,5,6,7,8]\n",
            "the sum of first and last element of array [1, 2, 3, 4, 5, 6, 7, 8] is 9\n"
          ]
        }
      ]
    },
    {
      "cell_type": "markdown",
      "source": [
        "5. Write a Python Program to check if given array is Monotonic ?"
      ],
      "metadata": {
        "id": "cP6ec3BJB1HZ"
      }
    },
    {
      "cell_type": "code",
      "source": [
        "def checkMonotonic():\n",
        "    in_arr = eval(input(\"Enter the Array: \"))\n",
        "    if(all(in_arr[i]<=in_arr[i+1] for i in range(len(in_arr)-1)) or all(in_arr[i]>=in_arr[i+1] for i in range(len(in_arr)-1))):\n",
        "        print(f'Array {in_arr} is Monotonic')\n",
        "    else:\n",
        "        print(f'Array {in_arr} is Not Monotonic')\n",
        "\n",
        "checkMonotonic()\n",
        "checkMonotonic()"
      ],
      "metadata": {
        "colab": {
          "base_uri": "https://localhost:8080/"
        },
        "id": "oqEO8Ue1B1pm",
        "outputId": "1553f7a7-d080-439b-e146-0c49b41beeba"
      },
      "execution_count": 6,
      "outputs": [
        {
          "output_type": "stream",
          "name": "stdout",
          "text": [
            "Enter the Array: [1,2,3,4,5]\n",
            "Array [1, 2, 3, 4, 5] is Monotonic\n",
            "Enter the Array: 4,2,2,5,4,6\n",
            "Array (4, 2, 2, 5, 4, 6) is Not Monotonic\n"
          ]
        }
      ]
    },
    {
      "cell_type": "code",
      "source": [
        ""
      ],
      "metadata": {
        "id": "GXBvpq0uB3v9"
      },
      "execution_count": null,
      "outputs": []
    }
  ]
}