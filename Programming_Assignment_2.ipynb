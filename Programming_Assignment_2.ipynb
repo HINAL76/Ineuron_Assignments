{
  "nbformat": 4,
  "nbformat_minor": 0,
  "metadata": {
    "colab": {
      "name": "Programming Assignment_2.ipynb",
      "provenance": [],
      "collapsed_sections": []
    },
    "kernelspec": {
      "name": "python3",
      "display_name": "Python 3"
    },
    "language_info": {
      "name": "python"
    }
  },
  "cells": [
    {
      "cell_type": "code",
      "execution_count": null,
      "metadata": {
        "id": "9xpHbYUvht2L"
      },
      "outputs": [],
      "source": [
        "#1. Write a Python program to convert kilometers to miles?"
      ]
    },
    {
      "cell_type": "code",
      "source": [
        "def kmToMiles():\n",
        "    kiloMeters = float(input(\"Enter no of kilometers : \"))\n",
        "    print(\"{} km is Equal to {} miles\".format(kiloMeters,kiloMeters*0.621))\n",
        "\n",
        "kmToMiles()"
      ],
      "metadata": {
        "colab": {
          "base_uri": "https://localhost:8080/"
        },
        "id": "goEXiByBiA6p",
        "outputId": "c7716b9b-ece1-48a8-9407-ec5b91a52680"
      },
      "execution_count": null,
      "outputs": [
        {
          "output_type": "stream",
          "name": "stdout",
          "text": [
            "Enter no of kilometers : 1\n",
            "1.0 km is Equal to 0.621 miles\n"
          ]
        }
      ]
    },
    {
      "cell_type": "code",
      "source": [
        "#2.2. Write a Python program to convert Celsius to Fahrenheit?"
      ],
      "metadata": {
        "id": "DF67tVTKiqWA"
      },
      "execution_count": null,
      "outputs": []
    },
    {
      "cell_type": "code",
      "source": [
        "celsius=38.9\n",
        "fahrenheit = (celsius * 1.8) + 32\n",
        "print('%0.1f degree Celsius is equal to %0.1f degree Fahrenheit' %(celsius,fahrenheit))"
      ],
      "metadata": {
        "colab": {
          "base_uri": "https://localhost:8080/"
        },
        "id": "2RUzUo0cjIOV",
        "outputId": "dcdb7a79-f75c-48dc-a343-cd14ecc10348"
      },
      "execution_count": null,
      "outputs": [
        {
          "output_type": "stream",
          "name": "stdout",
          "text": [
            "38.9 degree Celsius is equal to 102.0 degree Fahrenheit\n"
          ]
        }
      ]
    },
    {
      "cell_type": "code",
      "source": [
        "#3. Write a Python program to display calendar?"
      ],
      "metadata": {
        "id": "ric5viZujkHC"
      },
      "execution_count": null,
      "outputs": []
    },
    {
      "cell_type": "code",
      "source": [
        "import calendar\n",
        "\n",
        "def showCalender():\n",
        "    year = int(input(\"Enter calender year: \"))\n",
        "    print(calendar.calendar(year))\n",
        "    \n",
        "showCalender()"
      ],
      "metadata": {
        "colab": {
          "base_uri": "https://localhost:8080/"
        },
        "id": "yMmjysUBjqAK",
        "outputId": "33b4bcf4-7f76-4e0a-a3eb-798395cfb317"
      },
      "execution_count": null,
      "outputs": [
        {
          "output_type": "stream",
          "name": "stdout",
          "text": [
            "Enter calender year: 2020\n",
            "                                  2020\n",
            "\n",
            "      January                   February                   March\n",
            "Mo Tu We Th Fr Sa Su      Mo Tu We Th Fr Sa Su      Mo Tu We Th Fr Sa Su\n",
            "       1  2  3  4  5                      1  2                         1\n",
            " 6  7  8  9 10 11 12       3  4  5  6  7  8  9       2  3  4  5  6  7  8\n",
            "13 14 15 16 17 18 19      10 11 12 13 14 15 16       9 10 11 12 13 14 15\n",
            "20 21 22 23 24 25 26      17 18 19 20 21 22 23      16 17 18 19 20 21 22\n",
            "27 28 29 30 31            24 25 26 27 28 29         23 24 25 26 27 28 29\n",
            "                                                    30 31\n",
            "\n",
            "       April                      May                       June\n",
            "Mo Tu We Th Fr Sa Su      Mo Tu We Th Fr Sa Su      Mo Tu We Th Fr Sa Su\n",
            "       1  2  3  4  5                   1  2  3       1  2  3  4  5  6  7\n",
            " 6  7  8  9 10 11 12       4  5  6  7  8  9 10       8  9 10 11 12 13 14\n",
            "13 14 15 16 17 18 19      11 12 13 14 15 16 17      15 16 17 18 19 20 21\n",
            "20 21 22 23 24 25 26      18 19 20 21 22 23 24      22 23 24 25 26 27 28\n",
            "27 28 29 30               25 26 27 28 29 30 31      29 30\n",
            "\n",
            "        July                     August                  September\n",
            "Mo Tu We Th Fr Sa Su      Mo Tu We Th Fr Sa Su      Mo Tu We Th Fr Sa Su\n",
            "       1  2  3  4  5                      1  2          1  2  3  4  5  6\n",
            " 6  7  8  9 10 11 12       3  4  5  6  7  8  9       7  8  9 10 11 12 13\n",
            "13 14 15 16 17 18 19      10 11 12 13 14 15 16      14 15 16 17 18 19 20\n",
            "20 21 22 23 24 25 26      17 18 19 20 21 22 23      21 22 23 24 25 26 27\n",
            "27 28 29 30 31            24 25 26 27 28 29 30      28 29 30\n",
            "                          31\n",
            "\n",
            "      October                   November                  December\n",
            "Mo Tu We Th Fr Sa Su      Mo Tu We Th Fr Sa Su      Mo Tu We Th Fr Sa Su\n",
            "          1  2  3  4                         1          1  2  3  4  5  6\n",
            " 5  6  7  8  9 10 11       2  3  4  5  6  7  8       7  8  9 10 11 12 13\n",
            "12 13 14 15 16 17 18       9 10 11 12 13 14 15      14 15 16 17 18 19 20\n",
            "19 20 21 22 23 24 25      16 17 18 19 20 21 22      21 22 23 24 25 26 27\n",
            "26 27 28 29 30 31         23 24 25 26 27 28 29      28 29 30 31\n",
            "                          30\n",
            "\n"
          ]
        }
      ]
    },
    {
      "cell_type": "code",
      "source": [
        "#4. Write a Python program to solve quadratic equation?"
      ],
      "metadata": {
        "id": "DDgLWfCIkCln"
      },
      "execution_count": null,
      "outputs": []
    },
    {
      "cell_type": "code",
      "source": [
        "import cmath\n",
        "\n",
        "a=int(input(\"enter First value :\"))\n",
        "b=int(input(\"enter Second value :\"))\n",
        "c=int(input(\"enter Third value :\"))\n",
        "\n",
        "d=(b**2) - (4*a*c)\n",
        "\n",
        "sol1 = (-b-cmath.sqrt(d))/(2*a)\n",
        "sol2 = (-b+cmath.sqrt(d))/(2*a)\n",
        "\n",
        "print('The solution are {0} and {1}'.format(sol1,sol2))"
      ],
      "metadata": {
        "colab": {
          "base_uri": "https://localhost:8080/"
        },
        "id": "mGCiM84rkSHQ",
        "outputId": "f14dafc0-54c1-4045-9f3b-dc43b0bcf711"
      },
      "execution_count": null,
      "outputs": [
        {
          "output_type": "stream",
          "name": "stdout",
          "text": [
            "enter First value :1\n",
            "enter Second value :5\n",
            "enter Third value :9\n",
            "The solution are (-2.5-1.6583123951777j) and (-2.5+1.6583123951777j)\n"
          ]
        }
      ]
    },
    {
      "cell_type": "code",
      "source": [
        "#5. Write a Python program to swap two variables without temp variable?"
      ],
      "metadata": {
        "id": "tORBAS-4k4L_"
      },
      "execution_count": null,
      "outputs": []
    },
    {
      "cell_type": "code",
      "source": [
        "x = 5\n",
        "y = 7\n",
        " \n",
        "print (\"Before swapping: \")\n",
        "print(\"Value of x : \", x, \" and y : \", y)\n",
        " \n",
        "x, y = y, x\n",
        " \n",
        "print (\"After swapping: \")\n",
        "print(\"Value of x : \", x, \" and y : \", y)"
      ],
      "metadata": {
        "id": "rVcCkh-slmS6",
        "outputId": "6b64bc46-382a-49b9-cb9f-be1d03633968",
        "colab": {
          "base_uri": "https://localhost:8080/"
        }
      },
      "execution_count": null,
      "outputs": [
        {
          "output_type": "stream",
          "name": "stdout",
          "text": [
            "Before swapping: \n",
            "Value of x :  5  and y :  7\n",
            "After swapping: \n",
            "Value of x :  7  and y :  5\n"
          ]
        }
      ]
    },
    {
      "cell_type": "code",
      "source": [
        ""
      ],
      "metadata": {
        "id": "33evpYeFmsho"
      },
      "execution_count": null,
      "outputs": []
    }
  ]
}