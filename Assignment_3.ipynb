{
  "nbformat": 4,
  "nbformat_minor": 0,
  "metadata": {
    "colab": {
      "name": "Assignment_3.ipynb",
      "provenance": [],
      "collapsed_sections": []
    },
    "kernelspec": {
      "name": "python3",
      "display_name": "Python 3"
    },
    "language_info": {
      "name": "python"
    }
  },
  "cells": [
    {
      "cell_type": "code",
      "execution_count": null,
      "metadata": {
        "id": "dbO8qMERm_J8"
      },
      "outputs": [],
      "source": [
        "#1. Why are functions advantageous to have in your programs?"
      ]
    },
    {
      "cell_type": "markdown",
      "source": [
        "Ans:= Function reduse the need for duplicate code.. this makes program shorter and easier to read and easier to update..                                                                                           \n",
        "The main advantagous is code Reusability"
      ],
      "metadata": {
        "id": "toJ5FWVFqRUr"
      }
    },
    {
      "cell_type": "code",
      "source": [
        "#2. When does the code in a function run: when it's specified or when it's called?"
      ],
      "metadata": {
        "id": "Anq-Xbcjq2ZI"
      },
      "execution_count": null,
      "outputs": []
    },
    {
      "cell_type": "markdown",
      "source": [
        "Ans:= The code in a function excutes the function is  called,not when the function isspecification"
      ],
      "metadata": {
        "id": "VFeeWmPxq8Yu"
      }
    },
    {
      "cell_type": "code",
      "source": [
        "#3. What statement creates a function?"
      ],
      "metadata": {
        "id": "qtpVKTAprNlN"
      },
      "execution_count": null,
      "outputs": []
    },
    {
      "cell_type": "markdown",
      "source": [
        "Ans:= The def statment define a function                              \n",
        "\n",
        "Syntax of function:=                                                                                                                                                                                                                                                                                   def function_name(parameters):                                           \n",
        "          \"doc string\"                                  \n",
        "          ----function body-----                            \n",
        "          ----function body-----                            \n",
        "      return value                                                          "
      ],
      "metadata": {
        "id": "1q1qn9VVrR6j"
      }
    },
    {
      "cell_type": "code",
      "source": [
        "#4. What is the difference between a function and a function call?"
      ],
      "metadata": {
        "id": "BteX1dGfr7rK"
      },
      "execution_count": null,
      "outputs": []
    },
    {
      "cell_type": "markdown",
      "source": [
        "Ans:= Function is procedure to achieve  a particular result..                                                         while fuction call is using this function to achive that class"
      ],
      "metadata": {
        "id": "GWwbITqSsLJ_"
      }
    },
    {
      "cell_type": "code",
      "source": [
        "#5. How many global scopes are there in a Python program? How many local scopes?"
      ],
      "metadata": {
        "id": "vgye7f_EsfGc"
      },
      "execution_count": null,
      "outputs": []
    },
    {
      "cell_type": "markdown",
      "source": [
        "Ans:= There is one global scope and a local scope is created whenever a function is called"
      ],
      "metadata": {
        "id": "uiQto5NWspPK"
      }
    },
    {
      "cell_type": "code",
      "source": [
        "#6. What happens to variables in a local scope when the function call returns?"
      ],
      "metadata": {
        "id": "pHqiPMlhs2_b"
      },
      "execution_count": null,
      "outputs": []
    },
    {
      "cell_type": "markdown",
      "source": [
        "when funtion returns,the local scope is destroyed,and all the variavles in it are forgotteb"
      ],
      "metadata": {
        "id": "Kw0P_ImivaUG"
      }
    },
    {
      "cell_type": "code",
      "source": [
        "#7. What is the concept of a return value? Is it possible to have a return value in an expression?"
      ],
      "metadata": {
        "id": "Kx5FBIAhv1CU"
      },
      "execution_count": null,
      "outputs": []
    },
    {
      "cell_type": "markdown",
      "source": [
        "Ans:=A return value is the value that a function call evaluates to.like any value,a return value can used as part of an expression"
      ],
      "metadata": {
        "id": "Zjh5-65rv3zi"
      }
    },
    {
      "cell_type": "code",
      "source": [
        "#8. If a function does not have a return statement, what is the return value of a call to that function?"
      ],
      "metadata": {
        "id": "P0XLcobLwLTX"
      },
      "execution_count": null,
      "outputs": []
    },
    {
      "cell_type": "markdown",
      "source": [
        "Ans:=If there is no return statment for a function its return valueis None"
      ],
      "metadata": {
        "id": "S5Xw8aL7wOPp"
      }
    },
    {
      "cell_type": "code",
      "source": [
        "#9. How do you make a function variable refer to the global variable?"
      ],
      "metadata": {
        "id": "6hSJ5o9EwcgZ"
      },
      "execution_count": null,
      "outputs": []
    },
    {
      "cell_type": "markdown",
      "source": [
        "Ans:= A global statement will force a variable in function to refer to the global variable.if you want to global variable in a function you can use the global keyword to declare which variables are global"
      ],
      "metadata": {
        "id": "jLT0oWvTwkFX"
      }
    },
    {
      "cell_type": "code",
      "source": [
        "#10. What is the data type of None?"
      ],
      "metadata": {
        "id": "oreMGt2LxDuO"
      },
      "execution_count": null,
      "outputs": []
    },
    {
      "cell_type": "markdown",
      "source": [
        "Ans:= The datatype of None is NoneType"
      ],
      "metadata": {
        "id": "SooX9vnkxGYd"
      }
    },
    {
      "cell_type": "code",
      "source": [
        "#11. What does the sentence import are all your petsnamederic do?"
      ],
      "metadata": {
        "id": "Ip-TNqjvxNGG"
      },
      "execution_count": null,
      "outputs": []
    },
    {
      "cell_type": "markdown",
      "source": [
        "Ans:= That import statement imports a module named areallyourpetsnamederic.\n",
        "\n"
      ],
      "metadata": {
        "id": "WC_Q-NVJxQ9b"
      }
    },
    {
      "cell_type": "code",
      "source": [
        "#12. If you had a bacon() feature in a spam module, what would you call it after importing spam?"
      ],
      "metadata": {
        "id": "eLYxQ9woxZ7y"
      },
      "execution_count": null,
      "outputs": []
    },
    {
      "cell_type": "markdown",
      "source": [
        "Ans:=This Function can be called with spam.bacon()"
      ],
      "metadata": {
        "id": "SgIefew-xeay"
      }
    },
    {
      "cell_type": "code",
      "source": [
        "#13. What can you do to save a programme from crashing if it encounters an error?"
      ],
      "metadata": {
        "id": "O7e6RSSKxmsx"
      },
      "execution_count": null,
      "outputs": []
    },
    {
      "cell_type": "markdown",
      "source": [
        "Ans:=Place the line of code that might cause an error in a try clause and use except block to handle the error."
      ],
      "metadata": {
        "id": "Nr4HhHh5xpv6"
      }
    },
    {
      "cell_type": "code",
      "source": [
        "#14. What is the purpose of the try clause? What is the purpose of the except clause?"
      ],
      "metadata": {
        "id": "lOrwwxnzxsxg"
      },
      "execution_count": null,
      "outputs": []
    },
    {
      "cell_type": "markdown",
      "source": [
        "Ans:= The code that could potentially cause an error goes in the try clause. The code that executes if an error happens goes in the except clause."
      ],
      "metadata": {
        "id": "XYdURmHbxvYm"
      }
    },
    {
      "cell_type": "code",
      "source": [
        ""
      ],
      "metadata": {
        "id": "X_0GaN3Fx0S8"
      },
      "execution_count": null,
      "outputs": []
    }
  ]
}