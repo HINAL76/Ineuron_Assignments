{
  "nbformat": 4,
  "nbformat_minor": 0,
  "metadata": {
    "colab": {
      "name": "Advanced_Assignment_01.ipynb",
      "provenance": []
    },
    "kernelspec": {
      "name": "python3",
      "display_name": "Python 3"
    },
    "language_info": {
      "name": "python"
    }
  },
  "cells": [
    {
      "cell_type": "code",
      "execution_count": null,
      "metadata": {
        "id": "IvRUzLXON11F"
      },
      "outputs": [],
      "source": [
        "#Q1. What is the purpose of Python's OOP?"
      ]
    },
    {
      "cell_type": "markdown",
      "source": [
        "Ans:= object-oriented programming is a programming paradigm that provides means of structuring programs..                 \n",
        ":= in python object-oriented programming use objects and classes                   \n",
        ":= there are real world entities like...inheritance,polymorphisms,encapsulation,ect....                                   \n",
        ":=multiple instances of an object can be made..                                    \n"
      ],
      "metadata": {
        "id": "R6rMOVZkOPSD"
      }
    },
    {
      "cell_type": "code",
      "source": [
        "#Q2. Where does an inheritance search look for an attribute?"
      ],
      "metadata": {
        "id": "OAJ9tpILSCBe"
      },
      "execution_count": null,
      "outputs": []
    },
    {
      "cell_type": "markdown",
      "source": [
        "Ans:= python searches for an attribute in an upward tree of attributes.it first searches for the attributes is instance and then looks in the class it is genreted from,to all super classes listed its class header"
      ],
      "metadata": {
        "id": "3JqLZVdCSILu"
      }
    },
    {
      "cell_type": "code",
      "source": [
        "#Q3. How do you distinguish between a class object and an instance object?"
      ],
      "metadata": {
        "id": "N6-dw7WzSkkQ"
      },
      "execution_count": null,
      "outputs": []
    },
    {
      "cell_type": "markdown",
      "source": [
        "Ans:= 1. class is template for creating objects whereas object is an instance of class                                    \n",
        "2.seprate memory is allocated for each object whenever an object is created.but for a class this doesnot happens.                                 \n",
        "3.A class is created once.many objects are created using a class"
      ],
      "metadata": {
        "id": "t-n4YwUmT0Eb"
      }
    },
    {
      "cell_type": "code",
      "source": [
        "#Q4. What makes the first argument in a class’s method function special?"
      ],
      "metadata": {
        "id": "i3OI8zk1Ub5p"
      },
      "execution_count": null,
      "outputs": []
    },
    {
      "cell_type": "markdown",
      "source": [
        "Ans:=three types of methods..            \n",
        "1.instance method                        \n",
        "2.class method                         \n",
        "3.static method"
      ],
      "metadata": {
        "id": "veeHNfPLUgkF"
      }
    },
    {
      "cell_type": "code",
      "source": [
        "#Q5. What is the purpose of the __init__ method?"
      ],
      "metadata": {
        "id": "dzXudenmUvMK"
      },
      "execution_count": null,
      "outputs": []
    },
    {
      "cell_type": "markdown",
      "source": [
        "Ans:=__int__ is reseved method in python class.it is constructor in object oriented terminology.this method is called when object is created from a class and it allows the class"
      ],
      "metadata": {
        "id": "JNIMjHioUy06"
      }
    },
    {
      "cell_type": "code",
      "source": [
        "#Q6. What is the process for creating a class instance?"
      ],
      "metadata": {
        "id": "dAkoJ0RjZoSb"
      },
      "execution_count": null,
      "outputs": []
    },
    {
      "cell_type": "markdown",
      "source": [
        "Ans:=To create a class instance we need call the class by its named pass the arguments to the class,which is init method accepts."
      ],
      "metadata": {
        "id": "KRD4t3G3ZsHy"
      }
    },
    {
      "cell_type": "code",
      "source": [
        "#Q7. What is the process for creating a class?"
      ],
      "metadata": {
        "id": "U51C0ngzaVCG"
      },
      "execution_count": null,
      "outputs": []
    },
    {
      "cell_type": "markdown",
      "source": [
        "Ans:=The process for the creating class is the keyword is used to created class in python."
      ],
      "metadata": {
        "id": "bgpu7l11afp5"
      }
    },
    {
      "cell_type": "code",
      "source": [
        "#Q8. How would you define the superclasses of a class?\n"
      ],
      "metadata": {
        "id": "JvbHVnZ7azDK"
      },
      "execution_count": null,
      "outputs": []
    },
    {
      "cell_type": "markdown",
      "source": [
        "Ans:=superclass/parent class is given as a argument to the child class"
      ],
      "metadata": {
        "id": "Q3SCaTx5a2Xb"
      }
    },
    {
      "cell_type": "code",
      "source": [
        ""
      ],
      "metadata": {
        "id": "6rUYrAfOa_Bh"
      },
      "execution_count": null,
      "outputs": []
    }
  ]
}