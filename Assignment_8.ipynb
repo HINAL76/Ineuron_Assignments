{
  "nbformat": 4,
  "nbformat_minor": 0,
  "metadata": {
    "colab": {
      "name": "Assignment_8.ipynb",
      "provenance": [],
      "collapsed_sections": []
    },
    "kernelspec": {
      "name": "python3",
      "display_name": "Python 3"
    },
    "language_info": {
      "name": "python"
    }
  },
  "cells": [
    {
      "cell_type": "code",
      "execution_count": null,
      "metadata": {
        "id": "VD1xtwhJNDWk"
      },
      "outputs": [],
      "source": [
        "#1. Is the Python Standard Library included with PyInputPlus?\n"
      ]
    },
    {
      "cell_type": "markdown",
      "source": [
        "Ans:= no,PyInputPlus is not a part of python standard library,it need to be installed explicity using the command !pip install PyInputPlus"
      ],
      "metadata": {
        "id": "JtPJInXGNJaZ"
      }
    },
    {
      "cell_type": "code",
      "source": [
        "#2. Why is PyInputPlus commonly imported with import pyinputplus as pypi?\n"
      ],
      "metadata": {
        "id": "lYKwYGhrNeOc"
      },
      "execution_count": null,
      "outputs": []
    },
    {
      "cell_type": "markdown",
      "source": [
        "Ans:= you can import module with import PyInputPlus as pyip so that you can enter shorter name when calling module's functions.\n"
      ],
      "metadata": {
        "id": "ZpzlKZnNNk0u"
      }
    },
    {
      "cell_type": "code",
      "source": [
        "#3. How do you distinguish between inputInt() and inputFloat()?"
      ],
      "metadata": {
        "id": "u1G1yXQwN7bq"
      },
      "execution_count": null,
      "outputs": []
    },
    {
      "cell_type": "markdown",
      "source": [
        "Ans:=  inputInt():=                        \n",
        "function accepts an integer value.this is also takes addition parameters like..min,max,greterthan,lessthan for bounds..and it will always to return integer..    \n",
        "\n",
        "inputFloat():=                            \n",
        "function accepts floting-point numeric value.this also take addition,min,max,greterthan,lessthan parameters.and always return float"
      ],
      "metadata": {
        "id": "Wr1p9U1FOHG8"
      }
    },
    {
      "cell_type": "code",
      "source": [
        "#4. Using PyInputPlus, how do you ensure that the user enters a whole number between 0 and 99?"
      ],
      "metadata": {
        "id": "E3AAWcobO6Df"
      },
      "execution_count": null,
      "outputs": []
    },
    {
      "cell_type": "markdown",
      "source": [
        "Ans:= pyinputplus module provides a function called as inputInt() which is only return integer value.inorder restrict the input between 0 and 99 parameters like min & max.."
      ],
      "metadata": {
        "id": "dM1_2b7GO9oF"
      }
    },
    {
      "cell_type": "code",
      "source": [
        "#5. What is transferred to the keyword arguments allowRegexes and blockRegexes?"
      ],
      "metadata": {
        "id": "cxQ-0pT3PZeG"
      },
      "execution_count": null,
      "outputs": []
    },
    {
      "cell_type": "markdown",
      "source": [
        "Ans:= we can use allRegexes and blockRegexes keyword arguments to take list of regular expression string to determine what pythoninputplus..function will be reject or else accept valid input."
      ],
      "metadata": {
        "id": "S6OjxhfWPd8i"
      }
    },
    {
      "cell_type": "code",
      "source": [
        "#6. If a blank input is entered three times, what does inputStr(limit=3) do?"
      ],
      "metadata": {
        "id": "x2JGC9gnP6bW"
      },
      "execution_count": null,
      "outputs": []
    },
    {
      "cell_type": "markdown",
      "source": [
        "Ans:=The statement inputStr(limit=3) will throw two exceptions ValidationException and RetryLimitException. The first exception is thrown because blank values are not allowed by inputStr() function by default. it we want to consider blank values as valid input, we have to set blank=True.\n",
        "\n",
        "The second exception is occured because we have reached the max limit we have specified by using limit parameter. inorder to avoid this exception we can use default parameter to return a default value when max limit is reached."
      ],
      "metadata": {
        "id": "eTUEtNGiP-EE"
      }
    },
    {
      "cell_type": "code",
      "source": [
        "#7. If blank input is entered three times, what does inputStr(limit=3, default='hello') do?"
      ],
      "metadata": {
        "id": "WdIGiUMNQHU7"
      },
      "execution_count": null,
      "outputs": []
    },
    {
      "cell_type": "markdown",
      "source": [
        "Ans:=the default parameter is set to hello. after blank input is entered three times instead of raising RetryLimitException exception. the function will return hello as response to the calling function"
      ],
      "metadata": {
        "id": "MGHUmLZYQKm4"
      }
    },
    {
      "cell_type": "code",
      "source": [
        ""
      ],
      "metadata": {
        "id": "1CVMCnBuQO5Y"
      },
      "execution_count": null,
      "outputs": []
    }
  ]
}