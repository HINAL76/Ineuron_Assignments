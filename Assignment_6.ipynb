{
  "nbformat": 4,
  "nbformat_minor": 0,
  "metadata": {
    "colab": {
      "name": "Assignment 6.ipynb",
      "provenance": [],
      "collapsed_sections": []
    },
    "kernelspec": {
      "name": "python3",
      "display_name": "Python 3"
    },
    "language_info": {
      "name": "python"
    }
  },
  "cells": [
    {
      "cell_type": "code",
      "execution_count": null,
      "metadata": {
        "id": "Wxo3AR2TA85q"
      },
      "outputs": [],
      "source": [
        "#1.What are Escape characters ? and how do you use them ?"
      ]
    },
    {
      "cell_type": "markdown",
      "source": [
        "Ans:= Escape characters represent characters in string"
      ],
      "metadata": {
        "id": "mazqQwAWBIKs"
      }
    },
    {
      "cell_type": "code",
      "source": [
        "#2.What do the escape characters n and t stand for ?"
      ],
      "metadata": {
        "id": "a0m6vYEEBSKC"
      },
      "execution_count": null,
      "outputs": []
    },
    {
      "cell_type": "markdown",
      "source": [
        "Ans:= \\n is newline\n",
        "      \\t is a tab"
      ],
      "metadata": {
        "id": "M8rQl1ixBV6Q"
      }
    },
    {
      "cell_type": "code",
      "source": [
        "#3.What is the way to include backslash character in a string?"
      ],
      "metadata": {
        "id": "eY86Hg4LBbsR"
      },
      "execution_count": null,
      "outputs": []
    },
    {
      "cell_type": "markdown",
      "source": [
        "Ans:= The \\\\ escape Character will represent the backlash character in string"
      ],
      "metadata": {
        "id": "GNS56TzFBiGV"
      }
    },
    {
      "cell_type": "code",
      "source": [
        "#4.The string \"Howl's Moving Castle\" is a correct value. Why isn't the single quote character in the word Howl's not escaped a problem ?"
      ],
      "metadata": {
        "id": "Urn_htBQB0Cd"
      },
      "execution_count": null,
      "outputs": []
    },
    {
      "cell_type": "markdown",
      "source": [
        "Ans:= The string \"howl's moving castle\" escaped the problem because it is wrapped inside double quotes..........\n",
        "\n",
        "'Howl\\'s Moving Castle' -> 'Howl's Moving Castle'"
      ],
      "metadata": {
        "id": "FnCWFVZ5B7Az"
      }
    },
    {
      "cell_type": "code",
      "source": [
        "#5.How do you write a string of newlines if you don't want to use the n character?"
      ],
      "metadata": {
        "id": "I98u47hHChdZ"
      },
      "execution_count": null,
      "outputs": []
    },
    {
      "cell_type": "markdown",
      "source": [
        "Ans:= Multiline string allow you use new line in string without the \\n"
      ],
      "metadata": {
        "id": "gv5dWGIWCo7l"
      }
    },
    {
      "cell_type": "code",
      "source": [
        "a='''iNeuron full stack\n",
        "Data Science Course'''\n",
        "print(a)"
      ],
      "metadata": {
        "colab": {
          "base_uri": "https://localhost:8080/"
        },
        "id": "pAMJ6ATAC3Sq",
        "outputId": "137f42cf-494b-451f-f0b9-bfd15b83ddba"
      },
      "execution_count": null,
      "outputs": [
        {
          "output_type": "stream",
          "name": "stdout",
          "text": [
            "iNeuron full stack\n",
            "Data Science Course\n"
          ]
        }
      ]
    },
    {
      "cell_type": "code",
      "source": [
        "#6.What are the values of the given expressions ?\n"
      ],
      "metadata": {
        "id": "k35VLo2pDF4r"
      },
      "execution_count": null,
      "outputs": []
    },
    {
      "cell_type": "code",
      "source": [
        "'Hello, world!'[1]\n"
      ],
      "metadata": {
        "colab": {
          "base_uri": "https://localhost:8080/",
          "height": 35
        },
        "id": "_gDbjAUADOB3",
        "outputId": "ad94a362-233a-440a-e3d4-b218d31e8112"
      },
      "execution_count": null,
      "outputs": [
        {
          "output_type": "execute_result",
          "data": {
            "text/plain": [
              "'e'"
            ],
            "application/vnd.google.colaboratory.intrinsic+json": {
              "type": "string"
            }
          },
          "metadata": {},
          "execution_count": 4
        }
      ]
    },
    {
      "cell_type": "code",
      "source": [
        "'Hello, world!'[0:5]\n"
      ],
      "metadata": {
        "colab": {
          "base_uri": "https://localhost:8080/",
          "height": 35
        },
        "id": "VFZHTUslDW6g",
        "outputId": "4a40b9c1-f75e-44bc-8ee2-b7840ad401b7"
      },
      "execution_count": null,
      "outputs": [
        {
          "output_type": "execute_result",
          "data": {
            "text/plain": [
              "'Hello'"
            ],
            "application/vnd.google.colaboratory.intrinsic+json": {
              "type": "string"
            }
          },
          "metadata": {},
          "execution_count": 5
        }
      ]
    },
    {
      "cell_type": "code",
      "source": [
        "'Hello, world!'[:5]\n"
      ],
      "metadata": {
        "colab": {
          "base_uri": "https://localhost:8080/",
          "height": 35
        },
        "id": "sA01P7D4DZQh",
        "outputId": "e05952de-12f4-402e-e322-98d973b222d4"
      },
      "execution_count": null,
      "outputs": [
        {
          "output_type": "execute_result",
          "data": {
            "text/plain": [
              "'Hello'"
            ],
            "application/vnd.google.colaboratory.intrinsic+json": {
              "type": "string"
            }
          },
          "metadata": {},
          "execution_count": 6
        }
      ]
    },
    {
      "cell_type": "code",
      "source": [
        "'Hello, world!'[3:]"
      ],
      "metadata": {
        "colab": {
          "base_uri": "https://localhost:8080/",
          "height": 35
        },
        "id": "D8T00TIvDbx6",
        "outputId": "0830707d-94fe-4fc2-ae0d-18d140a96a50"
      },
      "execution_count": null,
      "outputs": [
        {
          "output_type": "execute_result",
          "data": {
            "text/plain": [
              "'lo, world!'"
            ],
            "application/vnd.google.colaboratory.intrinsic+json": {
              "type": "string"
            }
          },
          "metadata": {},
          "execution_count": 7
        }
      ]
    },
    {
      "cell_type": "code",
      "source": [
        "#7.What are the values of the following expressions ?"
      ],
      "metadata": {
        "id": "nOXDOGDRDcxN"
      },
      "execution_count": null,
      "outputs": []
    },
    {
      "cell_type": "code",
      "source": [
        "'Hello'.upper()"
      ],
      "metadata": {
        "colab": {
          "base_uri": "https://localhost:8080/",
          "height": 35
        },
        "id": "rM-VIFeIDhXu",
        "outputId": "e7fcf6ad-b119-405d-a5aa-a22a2c98ac02"
      },
      "execution_count": null,
      "outputs": [
        {
          "output_type": "execute_result",
          "data": {
            "text/plain": [
              "'HELLO'"
            ],
            "application/vnd.google.colaboratory.intrinsic+json": {
              "type": "string"
            }
          },
          "metadata": {},
          "execution_count": 9
        }
      ]
    },
    {
      "cell_type": "code",
      "source": [
        "'Hello'.upper().isupper()"
      ],
      "metadata": {
        "colab": {
          "base_uri": "https://localhost:8080/"
        },
        "id": "Iu__ysrPDljM",
        "outputId": "9f69c65a-4b46-4a45-a3ca-72e66050732c"
      },
      "execution_count": null,
      "outputs": [
        {
          "output_type": "execute_result",
          "data": {
            "text/plain": [
              "True"
            ]
          },
          "metadata": {},
          "execution_count": 10
        }
      ]
    },
    {
      "cell_type": "code",
      "source": [
        "'Hello'.upper().lower()"
      ],
      "metadata": {
        "colab": {
          "base_uri": "https://localhost:8080/",
          "height": 35
        },
        "id": "PmrmyRSlDq2t",
        "outputId": "37a94132-068a-4359-d1c5-f56223c342ef"
      },
      "execution_count": null,
      "outputs": [
        {
          "output_type": "execute_result",
          "data": {
            "text/plain": [
              "'hello'"
            ],
            "application/vnd.google.colaboratory.intrinsic+json": {
              "type": "string"
            }
          },
          "metadata": {},
          "execution_count": 11
        }
      ]
    },
    {
      "cell_type": "code",
      "source": [
        "#8.What are the values of the following expressions ?"
      ],
      "metadata": {
        "id": "akac-19-DyIG"
      },
      "execution_count": null,
      "outputs": []
    },
    {
      "cell_type": "markdown",
      "source": [
        "'Remember, remember, the fifth of July.'.split()\n",
        "'->.join(&#39;There can only one.'.split\n",
        "\n",
        "---\n",
        "\n",
        "())"
      ],
      "metadata": {
        "id": "Mhm--u_zNu-T"
      }
    },
    {
      "cell_type": "markdown",
      "source": [
        "Ans:=the value of expression are          \n",
        "'Remember, remember, the fifth of July.'.split()\n",
        "'->['Remember,', 'remember,', 'the', 'fifith', 'of', 'July.']\n",
        "'-'.join('There can only one'.split()) -> 'There-can-only-one'"
      ],
      "metadata": {
        "id": "C0MUEv4dONuZ"
      }
    },
    {
      "cell_type": "code",
      "source": [
        "#9.What are the methods for right-justifying, left-justifying and centering a string ?"
      ],
      "metadata": {
        "id": "DYIIzLYhOfFe"
      },
      "execution_count": null,
      "outputs": []
    },
    {
      "cell_type": "markdown",
      "source": [
        "Ans:= the rjust(),ljust(),center()...."
      ],
      "metadata": {
        "id": "pPwdCVDUOi7B"
      }
    },
    {
      "cell_type": "code",
      "source": [
        "#10.What is the best way to remove whitespace characters from the start or end ?"
      ],
      "metadata": {
        "id": "nAsJJzbwOn_r"
      },
      "execution_count": null,
      "outputs": []
    },
    {
      "cell_type": "markdown",
      "source": [
        "Ans:= lstrip() and rstrip() method remove the whitespace character"
      ],
      "metadata": {
        "id": "1P6AGdIwOsNT"
      }
    },
    {
      "cell_type": "code",
      "source": [
        ""
      ],
      "metadata": {
        "id": "nKdqfVPrO0Kx"
      },
      "execution_count": null,
      "outputs": []
    }
  ]
}