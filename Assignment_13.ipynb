{
  "nbformat": 4,
  "nbformat_minor": 0,
  "metadata": {
    "colab": {
      "provenance": []
    },
    "kernelspec": {
      "name": "python3",
      "display_name": "Python 3"
    },
    "language_info": {
      "name": "python"
    }
  },
  "cells": [
    {
      "cell_type": "markdown",
      "source": [
        "1. What advantages do Excel spreadsheets have over CSV spreadsheets?\n"
      ],
      "metadata": {
        "id": "_RXjwat6QlV4"
      }
    },
    {
      "cell_type": "markdown",
      "source": [
        "Ans:=\n",
        "The Advantages of Excel over CSV are:\n",
        "\n",
        "1.Excel (XLS and XLSX) file formats are better for storing and analysing complex data.\n",
        "2.An Excel not only stores data but can also do operations on the data using macros, formulas etc\n",
        "3.CSV files are plain-text files, Does not contain formatting, formulas, macros, etc. It is also known as flat files"
      ],
      "metadata": {
        "id": "Ci66m347TDq9"
      }
    },
    {
      "cell_type": "markdown",
      "source": [
        "2.What do you pass to csv.reader() and csv.writer() to create reader and writer objects?"
      ],
      "metadata": {
        "id": "u8TonY_AOlyJ"
      }
    },
    {
      "cell_type": "code",
      "source": [
        "#Ans:= \n",
        "import csv\n",
        "with open('text.csv','r') as file:\n",
        "    csv_file = csv.reader(file,delimiter=',')\n",
        "    for ele in csv_file:\n",
        "        print(ele)\n"
      ],
      "metadata": {
        "id": "8bs3dLyfOgq3"
      },
      "execution_count": 12,
      "outputs": []
    },
    {
      "cell_type": "markdown",
      "source": [
        "3. What modes do File objects for reader and writer objects need to be opened in?"
      ],
      "metadata": {
        "id": "2gJz131QOwTL"
      }
    },
    {
      "cell_type": "code",
      "source": [
        "#Ans:=\n",
        "For csv.reader(iterable_file_object), the file objects needed to be opened in read mode mode='r' Whereas for csv.writer(iterable_file_object) the file objects needed to be opened in write mode mode='w'\n"
      ],
      "metadata": {
        "id": "MgZtGy1XO0HL"
      },
      "execution_count": 14,
      "outputs": []
    },
    {
      "cell_type": "markdown",
      "source": [
        "4. 4. What method takes a list argument and writes it to a CSV file?"
      ],
      "metadata": {
        "id": "ZvCIFGFfO4B7"
      }
    },
    {
      "cell_type": "code",
      "source": [
        "#Ans:=csv.writer class provides two methods for writing to CSV. They are writerow() and writerows(). writerow() method writes a single row at a time. Whereas writerows() method is used to write multiple rows at a time.\n",
        "\n",
        "# Example Program\n",
        "import csv      \n",
        "fields = ['Name', 'Branch', 'Year', 'CGPA'] #column names \n",
        "rows = [ \n",
        "            ['Nikhil', 'COE', '2', '9.0'],  # data rows of csv file \n",
        "            ['Sanchit', 'COE', '2', '9.1'], \n",
        "            ['Ravi', 'IT', '2', '9.3']\n",
        "       ] \n",
        "with open(\"university_records.csv\", 'w') as csvfile: \n",
        "    csvwriter = csv.writer(csvfile) # creating a csv writer object \n",
        "    csvwriter.writerow(fields) # writing the fields \n",
        "    csvwriter.writerows(rows) # writing the data rows "
      ],
      "metadata": {
        "id": "EhdVJywhO6-O"
      },
      "execution_count": 10,
      "outputs": []
    },
    {
      "cell_type": "markdown",
      "source": [
        "5. What do the keyword arguments delimiter and line terminator do?"
      ],
      "metadata": {
        "id": "rNov2w50PC4J"
      }
    },
    {
      "cell_type": "code",
      "source": [
        "#Ans:=\n",
        "Lets take the example of a csv file:\n",
        "First Name, Last Name, Age\n",
        "Mano, Vishnu, 24\n",
        "Vishnu, Vardhan, 21\n",
        "Here ',' is Delimiter. We can use any Character as per our needs if required. \n",
        "Similarly Line Terminator comes at end of line by default it is newline and can be changed accourding to Requirement."
      ],
      "metadata": {
        "id": "8_c6fk4QPDWk"
      },
      "execution_count": 7,
      "outputs": []
    },
    {
      "cell_type": "markdown",
      "source": [
        "6. What function takes a string of JSON data and returns a Python data structure?"
      ],
      "metadata": {
        "id": "ktNNoNSGPOmX"
      }
    },
    {
      "cell_type": "code",
      "source": [
        "#Ans:=\n",
        "loads() method takes a string of JSON data and returns a Python data structure\n",
        "\n",
        "# Example of json.loads() method\n",
        "import json\n",
        "my_details_json ='''{\n",
        "    \"Name\": \"Mano Vishnu\",\n",
        "    \"Qualification\": \"Bachelor of Technology\",\n",
        "    \"Stream\": \"Computer Science and Engineering\"\n",
        "}'''\n",
        "print(my_details_json)\n",
        "print(f'Type of my_details_json is {type(my_details_json)}')\n",
        "my_details = json.loads(my_details_json)\n",
        "print(my_details)\n",
        "print(f'Type of my_details is {type(my_details)}')"
      ],
      "metadata": {
        "id": "5buasxj-PRML"
      },
      "execution_count": null,
      "outputs": []
    },
    {
      "cell_type": "markdown",
      "source": [
        "7. What function takes a Python data structure and returns a string of JSON data?"
      ],
      "metadata": {
        "id": "7H-BAli3PTm-"
      }
    },
    {
      "cell_type": "code",
      "source": [
        "#Ans:=dumps() method takes a python data structure and returns a string of JSON data\n",
        "\n",
        "# Example of json.dumps() method\n",
        "import json\n",
        "my_details = {\n",
        "    'Name':'Mano Vishnu',\n",
        "    'Stream':'Computer Science and Engineering',\n",
        "    'Qualification':'Bachelor of Technology'\n",
        "}\n",
        "print(my_details)\n",
        "print(f'Type of my_details is {type(my_details)}')\n",
        "my_details_json = json.dumps(my_details, indent=4, sort_keys=True)\n",
        "print(my_details_json)\n",
        "print(f'Type of my_details_json is {type(my_details_json)}')"
      ],
      "metadata": {
        "id": "Ww0SinqSPW_M"
      },
      "execution_count": null,
      "outputs": []
    }
  ]
}