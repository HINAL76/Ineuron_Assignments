{
  "nbformat": 4,
  "nbformat_minor": 0,
  "metadata": {
    "colab": {
      "provenance": []
    },
    "kernelspec": {
      "name": "python3",
      "display_name": "Python 3"
    },
    "language_info": {
      "name": "python"
    }
  },
  "cells": [
    {
      "cell_type": "code",
      "execution_count": null,
      "metadata": {
        "id": "u4bkEGF06vXb"
      },
      "outputs": [],
      "source": [
        "1. How do you distinguish between shutil.copy() and shutil.copytree()?"
      ]
    },
    {
      "cell_type": "markdown",
      "source": [
        "Ans:= Shutil.copy() method is used to copy the contents of file from one file to another file/folder,it primary takes two arguments src,dest,src represent the file to be copied where as destination refer to the file to where the src data should be copied, if dest is folder name src with exact name will be copied to the dest folder.\n",
        "\n",
        "shutil.copytree() function is used to copy the entire contents of a folder to other folder. it also takes two arguments src & dest, it copies all the content recursively and stores it in dest. "
      ],
      "metadata": {
        "id": "zCPVbs7J64GX"
      }
    },
    {
      "cell_type": "code",
      "source": [
        "2. What function is used to rename files?"
      ],
      "metadata": {
        "id": "mD0ChLDO7lYK"
      },
      "execution_count": null,
      "outputs": []
    },
    {
      "cell_type": "markdown",
      "source": [
        "Ans:= os.rename() function is used to rename files or directories using a python program,this function takes two arguments src and dest src represents the name file which we want to rename,whereas dest represent the new name of the file."
      ],
      "metadata": {
        "id": "BO-e7mP97pLM"
      }
    },
    {
      "cell_type": "code",
      "source": [
        "3. What is the difference between the delete functions in the send2trash and shutil modules?"
      ],
      "metadata": {
        "id": "gQ9e_JHz8F0m"
      },
      "execution_count": null,
      "outputs": []
    },
    {
      "cell_type": "markdown",
      "source": [
        "Ans:=The send2trash functions will move a file or folder to the recycle bin, while shutil functions will permanently delete files and folders."
      ],
      "metadata": {
        "id": "RW5Z4Ps88JHe"
      }
    },
    {
      "cell_type": "code",
      "source": [
        "4.ZipFile objects have a close() method just like File objects’ close() method. What ZipFile method is equivalent to File objects’ open() method?"
      ],
      "metadata": {
        "id": "AqSLRtj48PuB"
      },
      "execution_count": null,
      "outputs": []
    },
    {
      "cell_type": "markdown",
      "source": [
        "Ans:= ZipFile Module provides a method called as zipfile.ZipFile() to read and write to zipFiles. it takes arugments lile filename and mode etc zipfile.ZipFile('filename', mode = 'r')"
      ],
      "metadata": {
        "id": "KsM-liCu8V3G"
      }
    },
    {
      "cell_type": "code",
      "source": [
        "Create a programme that searches a folder tree for files with a certain file extension (such as .pdf or .jpg). Copy these files from whatever location they are in to a new folder"
      ],
      "metadata": {
        "id": "qKyeSiri8dBk"
      },
      "execution_count": null,
      "outputs": []
    },
    {
      "cell_type": "code",
      "source": [
        "import os\n",
        "import shutil\n",
        "\n",
        "def search_and_copy(source,destination,extensions):\n",
        "    source = os.path.abspath(source)\n",
        "    destination = os.path.abspath(destination)\n",
        "    for foldername, subfolder, filenames in os.walk(source):\n",
        "        print(f'Folder Name ➞ {foldername}',end='\\n\\n')\n",
        "        print(f'Sub Folders ➞ {subfolder}',end='\\n\\n')\n",
        "        print(f'Files ➞ {filenames}',end='\\n\\n')\n",
        "        for filename in filenames:\n",
        "            fileName,extension = os.path.splitext(filename)\n",
        "            if extension in extensions:\n",
        "                targetFile = foldername+os.path.sep+fileName+extension\n",
        "                shutil.copy(targetFile, destination)\n",
        "        print(f'Files copied successfully from {source} to {destination}')\n",
        "    \n",
        "extensions = ['.pdf','.jpg','.ipynb']\n",
        "source = 'Dummy Source'\n",
        "destination = 'Dummy Destination'\n",
        "search_and_copy(source, destination, extensions)"
      ],
      "metadata": {
        "id": "B7Z1Prjn8j5x"
      },
      "execution_count": 1,
      "outputs": []
    },
    {
      "cell_type": "code",
      "source": [],
      "metadata": {
        "id": "e_Qu9QCz8l9M"
      },
      "execution_count": null,
      "outputs": []
    }
  ]
}