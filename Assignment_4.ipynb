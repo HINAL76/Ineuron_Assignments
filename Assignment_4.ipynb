{
  "nbformat": 4,
  "nbformat_minor": 0,
  "metadata": {
    "colab": {
      "name": "Assignment_4.ipynb",
      "provenance": [],
      "collapsed_sections": []
    },
    "kernelspec": {
      "name": "python3",
      "display_name": "Python 3"
    },
    "language_info": {
      "name": "python"
    }
  },
  "cells": [
    {
      "cell_type": "code",
      "execution_count": null,
      "metadata": {
        "id": "PAcCr9MpzEA5"
      },
      "outputs": [],
      "source": [
        "#1. What exactly is []?"
      ]
    },
    {
      "cell_type": "markdown",
      "source": [
        "Ans:= The empty list is represented by [] is a list that contains no items"
      ],
      "metadata": {
        "id": "zy2AGk0yzRnJ"
      }
    },
    {
      "cell_type": "code",
      "source": [
        "#2.In a list of values stored in a variable called spam, how would you assign the value 'hello' as the third value? (Assume [2, 4, 6, 8, 10] are in spam.)"
      ],
      "metadata": {
        "id": "5m20qNakzcVc"
      },
      "execution_count": null,
      "outputs": []
    },
    {
      "cell_type": "markdown",
      "source": [
        "Ans:=spam[2]='hello'"
      ],
      "metadata": {
        "id": "FmxmGUeUzi9_"
      }
    },
    {
      "cell_type": "code",
      "source": [
        "#ex:=\n",
        "li=[2,4,5,8,10]\n",
        "print(li)\n",
        "li[2]=\"hello\"\n",
        "print(li)"
      ],
      "metadata": {
        "colab": {
          "base_uri": "https://localhost:8080/"
        },
        "id": "IKv9UEGCzwjt",
        "outputId": "e43e1d7b-0829-4874-84ad-0ff9a302b9a5"
      },
      "execution_count": null,
      "outputs": [
        {
          "output_type": "stream",
          "name": "stdout",
          "text": [
            "[2, 4, 5, 8, 10]\n",
            "[2, 4, 'hello', 8, 10]\n"
          ]
        }
      ]
    },
    {
      "cell_type": "code",
      "source": [
        "#3. What is the value of spam[int(int('3'*2)//11)] ?"
      ],
      "metadata": {
        "id": "TGzYk6Oaz7j9"
      },
      "execution_count": null,
      "outputs": []
    },
    {
      "cell_type": "markdown",
      "source": [
        "Ans:=\n"
      ],
      "metadata": {
        "id": "wKUAOEKJ0bho"
      }
    },
    {
      "cell_type": "code",
      "source": [
        "spam=['a','b','c','d']\n",
        "print(\"spam[int(int('3'*2)//11)] ->\",spam[int(int('3'*2)//11)])"
      ],
      "metadata": {
        "colab": {
          "base_uri": "https://localhost:8080/"
        },
        "id": "jNmAf4Bl0fPJ",
        "outputId": "a226f5c2-4df5-49c1-d907-28e26a8abac7"
      },
      "execution_count": null,
      "outputs": [
        {
          "output_type": "stream",
          "name": "stdout",
          "text": [
            "spam[int(int('3'*2)//11)] -> d\n"
          ]
        }
      ]
    },
    {
      "cell_type": "code",
      "source": [
        "#4. What is the value of spam[-1]?"
      ],
      "metadata": {
        "id": "uumY_SJ60yRe"
      },
      "execution_count": null,
      "outputs": []
    },
    {
      "cell_type": "markdown",
      "source": [
        "Ans:= 'c' list supporing negative indexing"
      ],
      "metadata": {
        "id": "ob2RzcXT1KKj"
      }
    },
    {
      "cell_type": "code",
      "source": [
        "a=['a','b','c']\n",
        "print('a[-1] =',a[-1])"
      ],
      "metadata": {
        "colab": {
          "base_uri": "https://localhost:8080/"
        },
        "id": "Kqf7WvtC1T1L",
        "outputId": "55802a9f-9544-49ff-cb20-9a12138f0efb"
      },
      "execution_count": null,
      "outputs": [
        {
          "output_type": "stream",
          "name": "stdout",
          "text": [
            "a[-1] = c\n"
          ]
        }
      ]
    },
    {
      "cell_type": "code",
      "source": [
        "#5. What is the value of spam[:2]?"
      ],
      "metadata": {
        "id": "eEJ_4Cw51ad_"
      },
      "execution_count": null,
      "outputs": []
    },
    {
      "cell_type": "markdown",
      "source": [
        "Ans:= The value of spam [:2] return all element in the list 0 to 2"
      ],
      "metadata": {
        "id": "bduv2yoq1jbl"
      }
    },
    {
      "cell_type": "code",
      "source": [
        "print(a)\n",
        "print(a[:2])"
      ],
      "metadata": {
        "colab": {
          "base_uri": "https://localhost:8080/"
        },
        "id": "g-i0s7a61tpg",
        "outputId": "0ce95e7d-d53f-43a6-e1e6-12c80abef081"
      },
      "execution_count": null,
      "outputs": [
        {
          "output_type": "stream",
          "name": "stdout",
          "text": [
            "['a', 'b', 'c']\n",
            "['a', 'b']\n"
          ]
        }
      ]
    },
    {
      "cell_type": "markdown",
      "source": [
        "Let's pretend bacon has the list [3.14, 'cat,' 11, 'cat,' True] for the next three questions."
      ],
      "metadata": {
        "id": "RTHo6ciNC_Cv"
      }
    },
    {
      "cell_type": "code",
      "source": [
        "#6. What is the value of bacon.index('cat')?\n"
      ],
      "metadata": {
        "id": "Fy_7L3xo1zEB"
      },
      "execution_count": 1,
      "outputs": []
    },
    {
      "cell_type": "markdown",
      "source": [
        "Ans:=the value of bacon.index('cat') is 1"
      ],
      "metadata": {
        "id": "IySYAqtjCoNm"
      }
    },
    {
      "cell_type": "code",
      "source": [
        "#7. How does bacon.append(99) change the look of the list value in bacon?"
      ],
      "metadata": {
        "id": "vdjQilL0C1MQ"
      },
      "execution_count": null,
      "outputs": []
    },
    {
      "cell_type": "markdown",
      "source": [
        "Ans:= the append method  adds new elements to the end of the list"
      ],
      "metadata": {
        "id": "WXM27XUJDErq"
      }
    },
    {
      "cell_type": "code",
      "source": [
        "#8. How does bacon.remove('cat') change the look of the list in bacon?"
      ],
      "metadata": {
        "id": "zv2PUIQmDT5x"
      },
      "execution_count": null,
      "outputs": []
    },
    {
      "cell_type": "markdown",
      "source": [
        "Ans:=the remove method removes the first element in the list"
      ],
      "metadata": {
        "id": "fnoiLNPDDjVa"
      }
    },
    {
      "cell_type": "code",
      "source": [
        "#9.what are the list concatenation and list replication operations?"
      ],
      "metadata": {
        "id": "UtufT_LwDgj-"
      },
      "execution_count": null,
      "outputs": []
    },
    {
      "cell_type": "markdown",
      "source": [
        "Ans:=the operator for list concatenation is [+] while the operator for the replication is [*]"
      ],
      "metadata": {
        "id": "W4-x6O-CDp08"
      }
    },
    {
      "cell_type": "code",
      "source": [
        "#10.what is the difference between the list method append() and insert()?"
      ],
      "metadata": {
        "id": "uI5tm432EC_e"
      },
      "execution_count": null,
      "outputs": []
    },
    {
      "cell_type": "markdown",
      "source": [
        "Ans:=append()is add value only to the end of a list                                                                           insert():=can add them anywhere in the list"
      ],
      "metadata": {
        "id": "KOdg7B_kEH1P"
      }
    },
    {
      "cell_type": "code",
      "source": [
        "#11. What are the two methods for removing items from a list?"
      ],
      "metadata": {
        "id": "RP4yMF0DEar6"
      },
      "execution_count": null,
      "outputs": []
    },
    {
      "cell_type": "markdown",
      "source": [
        "Ans:=del statment and remove() method they both are remove values from a list"
      ],
      "metadata": {
        "id": "qnValLV4EeOz"
      }
    },
    {
      "cell_type": "code",
      "source": [
        "#12. Describe how list values and string values are identical."
      ],
      "metadata": {
        "id": "qBLBKQ_mEoPb"
      },
      "execution_count": null,
      "outputs": []
    },
    {
      "cell_type": "markdown",
      "source": [
        "Ans:= both lists and strings can be passed to len() function,have a indexes,slices,be used for for loops,not in operator"
      ],
      "metadata": {
        "id": "IcJDPTkFEskj"
      }
    },
    {
      "cell_type": "code",
      "source": [
        "#13.What's the difference between tuples and lists?"
      ],
      "metadata": {
        "id": "1BoVv_YfFENy"
      },
      "execution_count": null,
      "outputs": []
    },
    {
      "cell_type": "markdown",
      "source": [
        "Ans:=list are a mutable\n",
        "\n",
        "\n",
        "tuple are inmutable\n",
        "\n",
        "list are indexable\n",
        "\n",
        "tuple value can not be changed\n",
        "\n",
        "list they can have changed value add the value nd also removed"
      ],
      "metadata": {
        "id": "01ensfxSFJZs"
      }
    },
    {
      "cell_type": "code",
      "source": [
        "#14.How do you type a tuple value that only contains the integer 42?"
      ],
      "metadata": {
        "id": "QftlQZe4FhU7"
      },
      "execution_count": null,
      "outputs": []
    },
    {
      "cell_type": "code",
      "source": [
        "tup=(42)\n",
        "tup1=(42,)\n",
        "print(type(tup))\n",
        "print(type(tup1))"
      ],
      "metadata": {
        "colab": {
          "base_uri": "https://localhost:8080/"
        },
        "id": "pUtK9kn2FsIH",
        "outputId": "2f001407-d7b3-46c9-8c34-266fd42974fe"
      },
      "execution_count": 3,
      "outputs": [
        {
          "output_type": "stream",
          "name": "stdout",
          "text": [
            "<class 'int'>\n",
            "<class 'tuple'>\n"
          ]
        }
      ]
    },
    {
      "cell_type": "code",
      "source": [
        "#15. How do you get a list value's tuple form? How do you get a tuple value's list form?"
      ],
      "metadata": {
        "id": "TTUJWwuSF3m7"
      },
      "execution_count": null,
      "outputs": []
    },
    {
      "cell_type": "markdown",
      "source": [
        "Ans:= the tuple() and list() functions,are used to convert a lists to tuple and vice versa"
      ],
      "metadata": {
        "id": "7_fkG8ZSF86N"
      }
    },
    {
      "cell_type": "code",
      "source": [
        "#16. Variables that \"contain\" list values are not necessarily lists themselves. Instead, what do they contain?"
      ],
      "metadata": {
        "id": "TX9NDymYGNVS"
      },
      "execution_count": 4,
      "outputs": []
    },
    {
      "cell_type": "markdown",
      "source": [
        "Ans:= they contain references to list values."
      ],
      "metadata": {
        "id": "QWei-gLiGXUv"
      }
    },
    {
      "cell_type": "code",
      "source": [
        "#17. How do you distinguish between copy.copy() and copy.deepcopy()?"
      ],
      "metadata": {
        "id": "JvEu0aX-Gdwo"
      },
      "execution_count": null,
      "outputs": []
    },
    {
      "cell_type": "markdown",
      "source": [
        "Ans:= The copy.copy() function will do a shallow copy of a list, while the copy.deepcopy() function will do a deep copy of a list. That is, only copy.deepcopy() will duplicate any lists inside the list."
      ],
      "metadata": {
        "id": "0eC5FjfGGiFv"
      }
    },
    {
      "cell_type": "code",
      "source": [
        ""
      ],
      "metadata": {
        "id": "k5LI8OkhGl8U"
      },
      "execution_count": null,
      "outputs": []
    }
  ]
}